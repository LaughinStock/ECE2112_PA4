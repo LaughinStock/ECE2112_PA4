{
 "cells": [
  {
   "cell_type": "markdown",
   "id": "79367c08-0e71-4c77-9f30-03dece33693a",
   "metadata": {},
   "source": [
    "# Programming Assignment # 4 | ECE2112 | 2ECE-A"
   ]
  },
  {
   "cell_type": "markdown",
   "id": "f16cae4f-b968-4575-b383-ac885b8ee5b0",
   "metadata": {
    "jp-MarkdownHeadingCollapsed": true
   },
   "source": [
    "## Importing numpy, pandas, matplotlib, and seaborn and the csv file"
   ]
  },
  {
   "cell_type": "markdown",
   "id": "819124da-26f3-49f8-b129-d9614b14300e",
   "metadata": {},
   "source": [
    "### Importing Numpy"
   ]
  },
  {
   "cell_type": "code",
   "execution_count": 4,
   "id": "f6d93c30-4f1b-437a-82bb-1f0e1c2a26a5",
   "metadata": {},
   "outputs": [],
   "source": [
    "import numpy as np"
   ]
  },
  {
   "cell_type": "markdown",
   "id": "e530ad6e-3947-4744-8a88-fc3f95313f69",
   "metadata": {},
   "source": [
    "### Importing Pandas"
   ]
  },
  {
   "cell_type": "code",
   "execution_count": 7,
   "id": "bc789e35-36f9-4636-8006-719f1b34fc38",
   "metadata": {},
   "outputs": [],
   "source": [
    "import pandas as pd"
   ]
  },
  {
   "cell_type": "markdown",
   "id": "856e1d1b-8bd5-4662-b874-a02970560472",
   "metadata": {},
   "source": [
    "### Importing matplotlib"
   ]
  },
  {
   "cell_type": "code",
   "execution_count": 59,
   "id": "a4e160cc-7b83-44e7-90ad-2ae8a440e9bf",
   "metadata": {},
   "outputs": [],
   "source": [
    "import matplotlib.pyplot as plt"
   ]
  },
  {
   "cell_type": "markdown",
   "id": "f2c46076-bd0c-43ca-98da-76d43f6d7867",
   "metadata": {},
   "source": [
    "### Importing seaborn as sns"
   ]
  },
  {
   "cell_type": "code",
   "execution_count": 62,
   "id": "7f40a068-d760-41ef-9c26-31701b493fb8",
   "metadata": {},
   "outputs": [],
   "source": [
    "import seaborn as sns"
   ]
  },
  {
   "cell_type": "markdown",
   "id": "16f4e020-febe-4b05-9438-69315f5f209d",
   "metadata": {},
   "source": [
    "### Importing the file board2.xlsx into Jupyter notebook using \"*pd.DataFrame(pd.read_excel())*\""
   ]
  },
  {
   "cell_type": "code",
   "execution_count": 32,
   "id": "07abec8b-3b31-4d58-a646-ae40624c6091",
   "metadata": {},
   "outputs": [],
   "source": [
    "df = pd.DataFrame(pd.read_excel(\"board2.xlsx\"))"
   ]
  },
  {
   "cell_type": "markdown",
   "id": "8e6f59db-b7ec-4860-b193-fecd6cf078bb",
   "metadata": {},
   "source": [
    "### Displaying board2.xlsx"
   ]
  },
  {
   "cell_type": "code",
   "execution_count": 163,
   "id": "15a4dae4-ef15-4645-af37-626141fd3e8d",
   "metadata": {},
   "outputs": [
    {
     "data": {
      "text/html": [
       "<div>\n",
       "<style scoped>\n",
       "    .dataframe tbody tr th:only-of-type {\n",
       "        vertical-align: middle;\n",
       "    }\n",
       "\n",
       "    .dataframe tbody tr th {\n",
       "        vertical-align: top;\n",
       "    }\n",
       "\n",
       "    .dataframe thead th {\n",
       "        text-align: right;\n",
       "    }\n",
       "</style>\n",
       "<table border=\"1\" class=\"dataframe\">\n",
       "  <thead>\n",
       "    <tr style=\"text-align: right;\">\n",
       "      <th></th>\n",
       "      <th>Name</th>\n",
       "      <th>Gender</th>\n",
       "      <th>Track</th>\n",
       "      <th>Hometown</th>\n",
       "      <th>Math</th>\n",
       "      <th>Electronics</th>\n",
       "      <th>GEAS</th>\n",
       "      <th>Communication</th>\n",
       "      <th>Average</th>\n",
       "    </tr>\n",
       "  </thead>\n",
       "  <tbody>\n",
       "    <tr>\n",
       "      <th>0</th>\n",
       "      <td>S1</td>\n",
       "      <td>Male</td>\n",
       "      <td>Instrumentation</td>\n",
       "      <td>Luzon</td>\n",
       "      <td>58</td>\n",
       "      <td>89</td>\n",
       "      <td>75</td>\n",
       "      <td>78</td>\n",
       "      <td>75.00</td>\n",
       "    </tr>\n",
       "    <tr>\n",
       "      <th>1</th>\n",
       "      <td>S2</td>\n",
       "      <td>Female</td>\n",
       "      <td>Communication</td>\n",
       "      <td>Mindanao</td>\n",
       "      <td>52</td>\n",
       "      <td>75</td>\n",
       "      <td>90</td>\n",
       "      <td>52</td>\n",
       "      <td>67.25</td>\n",
       "    </tr>\n",
       "    <tr>\n",
       "      <th>2</th>\n",
       "      <td>S3</td>\n",
       "      <td>Female</td>\n",
       "      <td>Instrumentation</td>\n",
       "      <td>Mindanao</td>\n",
       "      <td>83</td>\n",
       "      <td>74</td>\n",
       "      <td>77</td>\n",
       "      <td>57</td>\n",
       "      <td>72.75</td>\n",
       "    </tr>\n",
       "    <tr>\n",
       "      <th>3</th>\n",
       "      <td>S4</td>\n",
       "      <td>Male</td>\n",
       "      <td>Instrumentation</td>\n",
       "      <td>Visayas</td>\n",
       "      <td>65</td>\n",
       "      <td>58</td>\n",
       "      <td>91</td>\n",
       "      <td>68</td>\n",
       "      <td>70.50</td>\n",
       "    </tr>\n",
       "    <tr>\n",
       "      <th>4</th>\n",
       "      <td>S5</td>\n",
       "      <td>Male</td>\n",
       "      <td>Communication</td>\n",
       "      <td>Luzon</td>\n",
       "      <td>59</td>\n",
       "      <td>86</td>\n",
       "      <td>43</td>\n",
       "      <td>88</td>\n",
       "      <td>69.00</td>\n",
       "    </tr>\n",
       "    <tr>\n",
       "      <th>5</th>\n",
       "      <td>S6</td>\n",
       "      <td>Female</td>\n",
       "      <td>Microelectronics</td>\n",
       "      <td>Visayas</td>\n",
       "      <td>88</td>\n",
       "      <td>45</td>\n",
       "      <td>86</td>\n",
       "      <td>83</td>\n",
       "      <td>75.50</td>\n",
       "    </tr>\n",
       "    <tr>\n",
       "      <th>6</th>\n",
       "      <td>S7</td>\n",
       "      <td>Female</td>\n",
       "      <td>Instrumentation</td>\n",
       "      <td>Luzon</td>\n",
       "      <td>66</td>\n",
       "      <td>60</td>\n",
       "      <td>60</td>\n",
       "      <td>48</td>\n",
       "      <td>58.50</td>\n",
       "    </tr>\n",
       "    <tr>\n",
       "      <th>7</th>\n",
       "      <td>S8</td>\n",
       "      <td>Male</td>\n",
       "      <td>Instrumentation</td>\n",
       "      <td>Luzon</td>\n",
       "      <td>49</td>\n",
       "      <td>81</td>\n",
       "      <td>64</td>\n",
       "      <td>53</td>\n",
       "      <td>61.75</td>\n",
       "    </tr>\n",
       "    <tr>\n",
       "      <th>8</th>\n",
       "      <td>S9</td>\n",
       "      <td>Male</td>\n",
       "      <td>Instrumentation</td>\n",
       "      <td>Luzon</td>\n",
       "      <td>50</td>\n",
       "      <td>36</td>\n",
       "      <td>63</td>\n",
       "      <td>42</td>\n",
       "      <td>47.75</td>\n",
       "    </tr>\n",
       "    <tr>\n",
       "      <th>9</th>\n",
       "      <td>S10</td>\n",
       "      <td>Male</td>\n",
       "      <td>Microelectronics</td>\n",
       "      <td>Mindanao</td>\n",
       "      <td>80</td>\n",
       "      <td>84</td>\n",
       "      <td>61</td>\n",
       "      <td>44</td>\n",
       "      <td>67.25</td>\n",
       "    </tr>\n",
       "    <tr>\n",
       "      <th>10</th>\n",
       "      <td>S11</td>\n",
       "      <td>Female</td>\n",
       "      <td>Communication</td>\n",
       "      <td>Visayas</td>\n",
       "      <td>48</td>\n",
       "      <td>56</td>\n",
       "      <td>48</td>\n",
       "      <td>67</td>\n",
       "      <td>54.75</td>\n",
       "    </tr>\n",
       "    <tr>\n",
       "      <th>11</th>\n",
       "      <td>S12</td>\n",
       "      <td>Male</td>\n",
       "      <td>Communication</td>\n",
       "      <td>Visayas</td>\n",
       "      <td>89</td>\n",
       "      <td>67</td>\n",
       "      <td>84</td>\n",
       "      <td>64</td>\n",
       "      <td>76.00</td>\n",
       "    </tr>\n",
       "    <tr>\n",
       "      <th>12</th>\n",
       "      <td>S13</td>\n",
       "      <td>Female</td>\n",
       "      <td>Microelectronics</td>\n",
       "      <td>Luzon</td>\n",
       "      <td>88</td>\n",
       "      <td>35</td>\n",
       "      <td>83</td>\n",
       "      <td>43</td>\n",
       "      <td>62.25</td>\n",
       "    </tr>\n",
       "    <tr>\n",
       "      <th>13</th>\n",
       "      <td>S14</td>\n",
       "      <td>Female</td>\n",
       "      <td>Microelectronics</td>\n",
       "      <td>Luzon</td>\n",
       "      <td>83</td>\n",
       "      <td>77</td>\n",
       "      <td>89</td>\n",
       "      <td>73</td>\n",
       "      <td>80.50</td>\n",
       "    </tr>\n",
       "    <tr>\n",
       "      <th>14</th>\n",
       "      <td>S15</td>\n",
       "      <td>Female</td>\n",
       "      <td>Microelectronics</td>\n",
       "      <td>Mindanao</td>\n",
       "      <td>69</td>\n",
       "      <td>41</td>\n",
       "      <td>40</td>\n",
       "      <td>86</td>\n",
       "      <td>59.00</td>\n",
       "    </tr>\n",
       "    <tr>\n",
       "      <th>15</th>\n",
       "      <td>S16</td>\n",
       "      <td>Female</td>\n",
       "      <td>Communication</td>\n",
       "      <td>Luzon</td>\n",
       "      <td>71</td>\n",
       "      <td>70</td>\n",
       "      <td>87</td>\n",
       "      <td>81</td>\n",
       "      <td>77.25</td>\n",
       "    </tr>\n",
       "    <tr>\n",
       "      <th>16</th>\n",
       "      <td>S17</td>\n",
       "      <td>Female</td>\n",
       "      <td>Microelectronics</td>\n",
       "      <td>Mindanao</td>\n",
       "      <td>81</td>\n",
       "      <td>79</td>\n",
       "      <td>77</td>\n",
       "      <td>45</td>\n",
       "      <td>70.50</td>\n",
       "    </tr>\n",
       "    <tr>\n",
       "      <th>17</th>\n",
       "      <td>S18</td>\n",
       "      <td>Male</td>\n",
       "      <td>Communication</td>\n",
       "      <td>Visayas</td>\n",
       "      <td>81</td>\n",
       "      <td>40</td>\n",
       "      <td>81</td>\n",
       "      <td>52</td>\n",
       "      <td>63.50</td>\n",
       "    </tr>\n",
       "    <tr>\n",
       "      <th>18</th>\n",
       "      <td>S19</td>\n",
       "      <td>Male</td>\n",
       "      <td>Microelectronics</td>\n",
       "      <td>Luzon</td>\n",
       "      <td>79</td>\n",
       "      <td>63</td>\n",
       "      <td>79</td>\n",
       "      <td>71</td>\n",
       "      <td>73.00</td>\n",
       "    </tr>\n",
       "    <tr>\n",
       "      <th>19</th>\n",
       "      <td>S20</td>\n",
       "      <td>Female</td>\n",
       "      <td>Communication</td>\n",
       "      <td>Mindanao</td>\n",
       "      <td>59</td>\n",
       "      <td>60</td>\n",
       "      <td>62</td>\n",
       "      <td>85</td>\n",
       "      <td>66.50</td>\n",
       "    </tr>\n",
       "    <tr>\n",
       "      <th>20</th>\n",
       "      <td>S21</td>\n",
       "      <td>Female</td>\n",
       "      <td>Microelectronics</td>\n",
       "      <td>Visayas</td>\n",
       "      <td>83</td>\n",
       "      <td>51</td>\n",
       "      <td>68</td>\n",
       "      <td>72</td>\n",
       "      <td>68.50</td>\n",
       "    </tr>\n",
       "    <tr>\n",
       "      <th>21</th>\n",
       "      <td>S22</td>\n",
       "      <td>Female</td>\n",
       "      <td>Communication</td>\n",
       "      <td>Visayas</td>\n",
       "      <td>64</td>\n",
       "      <td>39</td>\n",
       "      <td>89</td>\n",
       "      <td>58</td>\n",
       "      <td>62.50</td>\n",
       "    </tr>\n",
       "    <tr>\n",
       "      <th>22</th>\n",
       "      <td>S23</td>\n",
       "      <td>Male</td>\n",
       "      <td>Instrumentation</td>\n",
       "      <td>Luzon</td>\n",
       "      <td>84</td>\n",
       "      <td>70</td>\n",
       "      <td>74</td>\n",
       "      <td>47</td>\n",
       "      <td>68.75</td>\n",
       "    </tr>\n",
       "    <tr>\n",
       "      <th>23</th>\n",
       "      <td>S24</td>\n",
       "      <td>Female</td>\n",
       "      <td>Microelectronics</td>\n",
       "      <td>Visayas</td>\n",
       "      <td>85</td>\n",
       "      <td>45</td>\n",
       "      <td>60</td>\n",
       "      <td>41</td>\n",
       "      <td>57.75</td>\n",
       "    </tr>\n",
       "    <tr>\n",
       "      <th>24</th>\n",
       "      <td>S25</td>\n",
       "      <td>Male</td>\n",
       "      <td>Communication</td>\n",
       "      <td>Luzon</td>\n",
       "      <td>74</td>\n",
       "      <td>91</td>\n",
       "      <td>94</td>\n",
       "      <td>42</td>\n",
       "      <td>75.25</td>\n",
       "    </tr>\n",
       "    <tr>\n",
       "      <th>25</th>\n",
       "      <td>S26</td>\n",
       "      <td>Female</td>\n",
       "      <td>Instrumentation</td>\n",
       "      <td>Visayas</td>\n",
       "      <td>71</td>\n",
       "      <td>47</td>\n",
       "      <td>83</td>\n",
       "      <td>62</td>\n",
       "      <td>65.75</td>\n",
       "    </tr>\n",
       "    <tr>\n",
       "      <th>26</th>\n",
       "      <td>S27</td>\n",
       "      <td>Male</td>\n",
       "      <td>Microelectronics</td>\n",
       "      <td>Visayas</td>\n",
       "      <td>70</td>\n",
       "      <td>47</td>\n",
       "      <td>40</td>\n",
       "      <td>86</td>\n",
       "      <td>60.75</td>\n",
       "    </tr>\n",
       "    <tr>\n",
       "      <th>27</th>\n",
       "      <td>S28</td>\n",
       "      <td>Male</td>\n",
       "      <td>Communication</td>\n",
       "      <td>Visayas</td>\n",
       "      <td>85</td>\n",
       "      <td>53</td>\n",
       "      <td>80</td>\n",
       "      <td>53</td>\n",
       "      <td>67.75</td>\n",
       "    </tr>\n",
       "    <tr>\n",
       "      <th>28</th>\n",
       "      <td>S29</td>\n",
       "      <td>Male</td>\n",
       "      <td>Instrumentation</td>\n",
       "      <td>Mindanao</td>\n",
       "      <td>73</td>\n",
       "      <td>48</td>\n",
       "      <td>71</td>\n",
       "      <td>62</td>\n",
       "      <td>63.50</td>\n",
       "    </tr>\n",
       "    <tr>\n",
       "      <th>29</th>\n",
       "      <td>S30</td>\n",
       "      <td>Male</td>\n",
       "      <td>Instrumentation</td>\n",
       "      <td>Luzon</td>\n",
       "      <td>78</td>\n",
       "      <td>81</td>\n",
       "      <td>57</td>\n",
       "      <td>56</td>\n",
       "      <td>68.00</td>\n",
       "    </tr>\n",
       "  </tbody>\n",
       "</table>\n",
       "</div>"
      ],
      "text/plain": [
       "   Name  Gender             Track  Hometown  Math  Electronics  GEAS  \\\n",
       "0    S1    Male   Instrumentation     Luzon    58           89    75   \n",
       "1    S2  Female     Communication  Mindanao    52           75    90   \n",
       "2    S3  Female   Instrumentation  Mindanao    83           74    77   \n",
       "3    S4    Male   Instrumentation   Visayas    65           58    91   \n",
       "4    S5    Male     Communication     Luzon    59           86    43   \n",
       "5    S6  Female  Microelectronics   Visayas    88           45    86   \n",
       "6    S7  Female   Instrumentation     Luzon    66           60    60   \n",
       "7    S8    Male   Instrumentation     Luzon    49           81    64   \n",
       "8    S9    Male   Instrumentation     Luzon    50           36    63   \n",
       "9   S10    Male  Microelectronics  Mindanao    80           84    61   \n",
       "10  S11  Female     Communication   Visayas    48           56    48   \n",
       "11  S12    Male     Communication   Visayas    89           67    84   \n",
       "12  S13  Female  Microelectronics     Luzon    88           35    83   \n",
       "13  S14  Female  Microelectronics     Luzon    83           77    89   \n",
       "14  S15  Female  Microelectronics  Mindanao    69           41    40   \n",
       "15  S16  Female     Communication     Luzon    71           70    87   \n",
       "16  S17  Female  Microelectronics  Mindanao    81           79    77   \n",
       "17  S18    Male     Communication   Visayas    81           40    81   \n",
       "18  S19    Male  Microelectronics     Luzon    79           63    79   \n",
       "19  S20  Female     Communication  Mindanao    59           60    62   \n",
       "20  S21  Female  Microelectronics   Visayas    83           51    68   \n",
       "21  S22  Female     Communication   Visayas    64           39    89   \n",
       "22  S23    Male   Instrumentation     Luzon    84           70    74   \n",
       "23  S24  Female  Microelectronics   Visayas    85           45    60   \n",
       "24  S25    Male     Communication     Luzon    74           91    94   \n",
       "25  S26  Female   Instrumentation   Visayas    71           47    83   \n",
       "26  S27    Male  Microelectronics   Visayas    70           47    40   \n",
       "27  S28    Male     Communication   Visayas    85           53    80   \n",
       "28  S29    Male   Instrumentation  Mindanao    73           48    71   \n",
       "29  S30    Male   Instrumentation     Luzon    78           81    57   \n",
       "\n",
       "    Communication  Average  \n",
       "0              78    75.00  \n",
       "1              52    67.25  \n",
       "2              57    72.75  \n",
       "3              68    70.50  \n",
       "4              88    69.00  \n",
       "5              83    75.50  \n",
       "6              48    58.50  \n",
       "7              53    61.75  \n",
       "8              42    47.75  \n",
       "9              44    67.25  \n",
       "10             67    54.75  \n",
       "11             64    76.00  \n",
       "12             43    62.25  \n",
       "13             73    80.50  \n",
       "14             86    59.00  \n",
       "15             81    77.25  \n",
       "16             45    70.50  \n",
       "17             52    63.50  \n",
       "18             71    73.00  \n",
       "19             85    66.50  \n",
       "20             72    68.50  \n",
       "21             58    62.50  \n",
       "22             47    68.75  \n",
       "23             41    57.75  \n",
       "24             42    75.25  \n",
       "25             62    65.75  \n",
       "26             86    60.75  \n",
       "27             53    67.75  \n",
       "28             62    63.50  \n",
       "29             56    68.00  "
      ]
     },
     "execution_count": 163,
     "metadata": {},
     "output_type": "execute_result"
    }
   ],
   "source": [
    "df"
   ]
  },
  {
   "cell_type": "markdown",
   "id": "a71d4324-ed25-4410-a05d-2139c11fe7fd",
   "metadata": {
    "jp-MarkdownHeadingCollapsed": true
   },
   "source": [
    "# 1. Create the following data frames: "
   ]
  },
  {
   "cell_type": "markdown",
   "id": "3795c57e-8585-4bff-ba0b-bb3ec3e88372",
   "metadata": {},
   "source": [
    "## a.) Filename: Instru = [\"Name\", \"GEAS\", \"Electronics > 70\"]; where Track is constant as Instrumentation and hometown Luzon."
   ]
  },
  {
   "cell_type": "markdown",
   "id": "28b41642-4a06-4035-a7c6-5f3602e91edd",
   "metadata": {},
   "source": [
    "### Filter the students based on \"Electronics > 70\", Track == 'Instrumentation' and Hometown == 'Luzon'"
   ]
  },
  {
   "cell_type": "code",
   "execution_count": null,
   "id": "dc720d83-0512-440b-88a0-a03c4eac86f7",
   "metadata": {},
   "outputs": [],
   "source": [
    "Instru = df[(df['Track'] == 'Instrumentation') & (df['Hometown'] == 'Luzon') & (df['Electronics'] > 70)]"
   ]
  },
  {
   "cell_type": "markdown",
   "id": "ac8b9d5a-2513-4cd9-b48b-3847d616bb1e",
   "metadata": {},
   "source": [
    "### Showing the columns with the relevant information"
   ]
  },
  {
   "cell_type": "code",
   "execution_count": 93,
   "id": "e7956da7-02f7-424a-bf24-1655f870c5ec",
   "metadata": {},
   "outputs": [
    {
     "data": {
      "text/html": [
       "<div>\n",
       "<style scoped>\n",
       "    .dataframe tbody tr th:only-of-type {\n",
       "        vertical-align: middle;\n",
       "    }\n",
       "\n",
       "    .dataframe tbody tr th {\n",
       "        vertical-align: top;\n",
       "    }\n",
       "\n",
       "    .dataframe thead th {\n",
       "        text-align: right;\n",
       "    }\n",
       "</style>\n",
       "<table border=\"1\" class=\"dataframe\">\n",
       "  <thead>\n",
       "    <tr style=\"text-align: right;\">\n",
       "      <th></th>\n",
       "      <th>Name</th>\n",
       "      <th>GEAS</th>\n",
       "      <th>Electronics</th>\n",
       "    </tr>\n",
       "  </thead>\n",
       "  <tbody>\n",
       "    <tr>\n",
       "      <th>0</th>\n",
       "      <td>S1</td>\n",
       "      <td>75</td>\n",
       "      <td>89</td>\n",
       "    </tr>\n",
       "    <tr>\n",
       "      <th>7</th>\n",
       "      <td>S8</td>\n",
       "      <td>64</td>\n",
       "      <td>81</td>\n",
       "    </tr>\n",
       "    <tr>\n",
       "      <th>29</th>\n",
       "      <td>S30</td>\n",
       "      <td>57</td>\n",
       "      <td>81</td>\n",
       "    </tr>\n",
       "  </tbody>\n",
       "</table>\n",
       "</div>"
      ],
      "text/plain": [
       "   Name  GEAS  Electronics\n",
       "0    S1    75           89\n",
       "7    S8    64           81\n",
       "29  S30    57           81"
      ]
     },
     "execution_count": 93,
     "metadata": {},
     "output_type": "execute_result"
    }
   ],
   "source": [
    "Instru"
   ]
  },
  {
   "cell_type": "markdown",
   "id": "b189603d-6ce7-4813-9b23-1ac502c4c30d",
   "metadata": {},
   "source": [
    "## b) Filename: Mindy = [\"Name\", \"Track\", \"Electronics\", Average >= 55\"]; where hometown is as constant as Mindanao and gender Female."
   ]
  },
  {
   "cell_type": "markdown",
   "id": "f6c2813d-e963-4788-823b-d25ece376351",
   "metadata": {},
   "source": [
    "### Create a dataframe for the general average of 'Math', 'Electronics', 'GEAS', 'Communication' "
   ]
  },
  {
   "cell_type": "code",
   "execution_count": 85,
   "id": "4cca776e-e4ae-4072-ae96-4d250f2176d7",
   "metadata": {},
   "outputs": [],
   "source": [
    "df['Average'] = (df['Math'] + df['Electronics'] + df['GEAS'] + df['Communication']) / 4"
   ]
  },
  {
   "cell_type": "markdown",
   "id": "102f7d99-2852-4a42-b803-f99bacae57b6",
   "metadata": {},
   "source": [
    "### Filter the students based on Gender == 'Female', 'Average' >= 55, and Hometown == 'Mindanao'."
   ]
  },
  {
   "cell_type": "code",
   "execution_count": 87,
   "id": "9a04f754-2b8e-4ce0-9778-18767396523b",
   "metadata": {},
   "outputs": [],
   "source": [
    "Mindy = df[(df['Gender'] == 'Female') & (df['Hometown'] == 'Mindanao') & (df['Average'] >= 55)]"
   ]
  },
  {
   "cell_type": "code",
   "execution_count": 95,
   "id": "bddc961d-d5ff-45cf-b19c-e63f982e134f",
   "metadata": {},
   "outputs": [
    {
     "data": {
      "text/html": [
       "<div>\n",
       "<style scoped>\n",
       "    .dataframe tbody tr th:only-of-type {\n",
       "        vertical-align: middle;\n",
       "    }\n",
       "\n",
       "    .dataframe tbody tr th {\n",
       "        vertical-align: top;\n",
       "    }\n",
       "\n",
       "    .dataframe thead th {\n",
       "        text-align: right;\n",
       "    }\n",
       "</style>\n",
       "<table border=\"1\" class=\"dataframe\">\n",
       "  <thead>\n",
       "    <tr style=\"text-align: right;\">\n",
       "      <th></th>\n",
       "      <th>Name</th>\n",
       "      <th>Gender</th>\n",
       "      <th>Track</th>\n",
       "      <th>Hometown</th>\n",
       "      <th>Math</th>\n",
       "      <th>Electronics</th>\n",
       "      <th>GEAS</th>\n",
       "      <th>Communication</th>\n",
       "      <th>Average</th>\n",
       "    </tr>\n",
       "  </thead>\n",
       "  <tbody>\n",
       "    <tr>\n",
       "      <th>1</th>\n",
       "      <td>S2</td>\n",
       "      <td>Female</td>\n",
       "      <td>Communication</td>\n",
       "      <td>Mindanao</td>\n",
       "      <td>52</td>\n",
       "      <td>75</td>\n",
       "      <td>90</td>\n",
       "      <td>52</td>\n",
       "      <td>67.25</td>\n",
       "    </tr>\n",
       "    <tr>\n",
       "      <th>2</th>\n",
       "      <td>S3</td>\n",
       "      <td>Female</td>\n",
       "      <td>Instrumentation</td>\n",
       "      <td>Mindanao</td>\n",
       "      <td>83</td>\n",
       "      <td>74</td>\n",
       "      <td>77</td>\n",
       "      <td>57</td>\n",
       "      <td>72.75</td>\n",
       "    </tr>\n",
       "    <tr>\n",
       "      <th>14</th>\n",
       "      <td>S15</td>\n",
       "      <td>Female</td>\n",
       "      <td>Microelectronics</td>\n",
       "      <td>Mindanao</td>\n",
       "      <td>69</td>\n",
       "      <td>41</td>\n",
       "      <td>40</td>\n",
       "      <td>86</td>\n",
       "      <td>59.00</td>\n",
       "    </tr>\n",
       "    <tr>\n",
       "      <th>16</th>\n",
       "      <td>S17</td>\n",
       "      <td>Female</td>\n",
       "      <td>Microelectronics</td>\n",
       "      <td>Mindanao</td>\n",
       "      <td>81</td>\n",
       "      <td>79</td>\n",
       "      <td>77</td>\n",
       "      <td>45</td>\n",
       "      <td>70.50</td>\n",
       "    </tr>\n",
       "    <tr>\n",
       "      <th>19</th>\n",
       "      <td>S20</td>\n",
       "      <td>Female</td>\n",
       "      <td>Communication</td>\n",
       "      <td>Mindanao</td>\n",
       "      <td>59</td>\n",
       "      <td>60</td>\n",
       "      <td>62</td>\n",
       "      <td>85</td>\n",
       "      <td>66.50</td>\n",
       "    </tr>\n",
       "  </tbody>\n",
       "</table>\n",
       "</div>"
      ],
      "text/plain": [
       "   Name  Gender             Track  Hometown  Math  Electronics  GEAS  \\\n",
       "1    S2  Female     Communication  Mindanao    52           75    90   \n",
       "2    S3  Female   Instrumentation  Mindanao    83           74    77   \n",
       "14  S15  Female  Microelectronics  Mindanao    69           41    40   \n",
       "16  S17  Female  Microelectronics  Mindanao    81           79    77   \n",
       "19  S20  Female     Communication  Mindanao    59           60    62   \n",
       "\n",
       "    Communication  Average  \n",
       "1              52    67.25  \n",
       "2              57    72.75  \n",
       "14             86    59.00  \n",
       "16             45    70.50  \n",
       "19             85    66.50  "
      ]
     },
     "execution_count": 95,
     "metadata": {},
     "output_type": "execute_result"
    }
   ],
   "source": [
    "Mindy"
   ]
  },
  {
   "cell_type": "markdown",
   "id": "66d7ca22-5e36-4b1f-b4bf-e0a365fe6103",
   "metadata": {},
   "source": [
    "# 2. Create a visualization that shows how the different features contributes to the average grade. Does the chosen track in college, gender, or hometown contributes to a higher score?"
   ]
  },
  {
   "cell_type": "markdown",
   "id": "70d7b8b8-e36d-4832-9603-8a1fb5c45547",
   "metadata": {},
   "source": [
    "## A.) Distribution of Average Grades based on Track and Gender."
   ]
  },
  {
   "cell_type": "code",
   "execution_count": 150,
   "id": "f7964b0c-78e8-4d8c-9e98-29692d9d0f33",
   "metadata": {},
   "outputs": [
    {
     "data": {
      "image/png": "[encoded data removed]",
      "text/plain": [
       "<Figure size 800x400 with 1 Axes>"
      ]
     },
     "metadata": {},
     "output_type": "display_data"
    }
   ],
   "source": [
    "plt.figure(figsize=(8, 4))\n",
    "sns.boxplot(data=df, x='Track', y='Average', hue='Gender')\n",
    "plt.title(\"Distribution of Average Grades by Track and Gender\")\n",
    "plt.ylabel(\"Average Grade\")\n",
    "plt.xlabel(\"Track\")\n",
    "plt.show()"
   ]
  },
  {
   "cell_type": "markdown",
   "id": "a953187d-0f6b-476d-b41a-a4cfa270d509",
   "metadata": {},
   "source": [
    "Based on the graph above, there is very little difference between the two genders and their respective tracks. \n",
    "In Instrumentation, the sample range of both genders are the same but the median average grade for the two groups are almost close to one another with the 'Male' group having the higher value in this Track."
   ]
  },
  {
   "cell_type": "markdown",
   "id": "49253dfe-c045-445f-b95e-74004437eee7",
   "metadata": {},
   "source": [
    "In Communication, the sample range of both genders is vastly different with the 'Male' group having a larger sample range compared to 'Female'. But the median average grade for both groups are close to one another with the 'Male' group having the higher value in this Track. "
   ]
  },
  {
   "cell_type": "markdown",
   "id": "04170a62-bd15-42d7-9dbb-b70232dd7daf",
   "metadata": {},
   "source": [
    "In Microelectronics, the sample range of both genders is also vastly different with the 'Female' group having a larger sample range compared to the 'Male' group. But their median grade for both groups is also close to one another with the 'Female' group having the higher value in this Track."
   ]
  },
  {
   "cell_type": "markdown",
   "id": "fbab062b-ab78-4bef-889d-67361c071b9a",
   "metadata": {},
   "source": [
    "## B.) Distribution of Grades based on Track and Hometown"
   ]
  },
  {
   "cell_type": "code",
   "execution_count": 157,
   "id": "7994adae-1fe4-446f-a631-0d2533a2fdb7",
   "metadata": {},
   "outputs": [
    {
     "data": {
      "image/png": "[encoded data removed]",
      "text/plain": [
       "<Figure size 800x400 with 1 Axes>"
      ]
     },
     "metadata": {},
     "output_type": "display_data"
    }
   ],
   "source": [
    "plt.figure(figsize=(8, 4))\n",
    "sns.boxplot(data=df, x='Track', y='Average', hue='Hometown')\n",
    "plt.title(\"Distribution of Average Grades by Track and Hometown\")\n",
    "plt.ylabel(\"Average Grade\")\n",
    "plt.xlabel(\"Track\")\n",
    "plt.show()"
   ]
  },
  {
   "cell_type": "markdown",
   "id": "3b7dd007-b09b-4e14-b204-722efead7a44",
   "metadata": {},
   "source": [
    "There is a lot to unpack in this chart compared to the previous one. But based on the graph above:"
   ]
  },
  {
   "cell_type": "markdown",
   "id": "db65e1fd-ed5c-480e-aa61-59faf5718ce2",
   "metadata": {},
   "source": [
    "In the Instrumentation track, the 'hometown' group with the larger sample size for the median grade is 'Luzon' but take note that their median average grade is lower compared that to 'Visayas' and 'Mindanao' whose median average grade is almost or equal to one another."
   ]
  },
  {
   "cell_type": "markdown",
   "id": "4c9dc06c-6683-485b-a872-b5436e725b5b",
   "metadata": {},
   "source": [
    "In the Communication Track, the 'hometown' group with the larger sample range for the median average grade is 'Visayas' but their average grade is greatly lower compared to the other 'hometown' group. Luzon has the higher median average grade but has slightly lower sample range compared to 'Minadanao'. But the most interesting part of this graph is that 'Mindanao' has very little sample range but has a higher median average grade compared to 'Visayas.'"
   ]
  },
  {
   "cell_type": "markdown",
   "id": "aeed4a87-1aae-456e-9f4e-6c0bd8ad1cd8",
   "metadata": {},
   "source": [
    "And lastly in the Microelectronics Track, the 'hometown' group with the larger sample range for the median average grade is 'Visayas' and the hometown with the highest median average grade is Luzon."
   ]
  },
  {
   "cell_type": "markdown",
   "id": "aeb5009c-3514-471a-8cfe-7c4b94d3a584",
   "metadata": {},
   "source": [
    "## Final thoughts on the graphs"
   ]
  },
  {
   "cell_type": "markdown",
   "id": "e9584053-6e2b-4343-aa37-2ae40c0d2774",
   "metadata": {},
   "source": [
    "While it is interesting to see the difference between the median average score of the groups in the two tables, there is a subtle effect in the contribution of a higher score whether your gender is different and from where you live. \n",
    "\n",
    "But in the first graph between genders, both of them perform almost similar to one another with each one trailing behind slightly compared to the other group. \n",
    "\n",
    "In the second graph, you can see that the overall largest sample range comes from Luzon while Visayas and Mindanao (in order) falls behind. But on overall performance in the board exam, there is a clear winner. Graduates from Luzon who took the board exams have a higher median score compared to their peers in Visayas and Mindanao. And this clearly reflects the current situation in the Philippines. Most well-known and established universities in the Philippines are in Luzon which gives them a slight advantage in the board exams. But medians aside, every now and then there would be a graduate who tops the board exam who came from state universities and local private colleges who can easily top the board exams. It would ultimately come down as to how the graduate or the exam taker is prepared for the exam.  \n"
   ]
  },
  {
   "cell_type": "code",
   "execution_count": null,
   "id": "c0c82ca3-de15-4be2-92cc-d78bf61c0e8c",
   "metadata": {},
   "outputs": [],
   "source": []
  }
 ],
 "metadata": {
  "kernelspec": {
   "display_name": "Python 3 (ipykernel)",
   "language": "python",
   "name": "python3"
  },
  "language_info": {
   "codemirror_mode": {
    "name": "ipython",
    "version": 3
   },
   "file_extension": ".py",
   "mimetype": "text/x-python",
   "name": "python",
   "nbconvert_exporter": "python",
   "pygments_lexer": "ipython3",
   "version": "3.12.4"
  }
 },
 "nbformat": 4,
 "nbformat_minor": 5
}
